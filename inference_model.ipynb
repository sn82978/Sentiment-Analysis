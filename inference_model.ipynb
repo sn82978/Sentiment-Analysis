{
 "cells": [
  {
   "cell_type": "code",
   "execution_count": 12,
   "metadata": {},
   "outputs": [
    {
     "name": "stderr",
     "output_type": "stream",
     "text": [
      "huggingface/tokenizers: The current process just got forked, after parallelism has already been used. Disabling parallelism to avoid deadlocks...\n",
      "To disable this warning, you can either:\n",
      "\t- Avoid using `tokenizers` before the fork if possible\n",
      "\t- Explicitly set the environment variable TOKENIZERS_PARALLELISM=(true | false)\n"
     ]
    },
    {
     "name": "stdout",
     "output_type": "stream",
     "text": [
      "Requirement already satisfied: transformers in /opt/anaconda3/lib/python3.9/site-packages (4.38.2)\n",
      "Requirement already satisfied: filelock in /opt/anaconda3/lib/python3.9/site-packages (from transformers) (3.6.0)\n",
      "Requirement already satisfied: huggingface-hub<1.0,>=0.19.3 in /opt/anaconda3/lib/python3.9/site-packages (from transformers) (0.21.4)\n",
      "Requirement already satisfied: numpy>=1.17 in /opt/anaconda3/lib/python3.9/site-packages (from transformers) (1.22.4)\n",
      "Requirement already satisfied: packaging>=20.0 in /opt/anaconda3/lib/python3.9/site-packages (from transformers) (21.3)\n",
      "Requirement already satisfied: pyyaml>=5.1 in /opt/anaconda3/lib/python3.9/site-packages (from transformers) (6.0)\n",
      "Requirement already satisfied: regex!=2019.12.17 in /opt/anaconda3/lib/python3.9/site-packages (from transformers) (2023.6.3)\n",
      "Requirement already satisfied: requests in /opt/anaconda3/lib/python3.9/site-packages (from transformers) (2.26.0)\n",
      "Requirement already satisfied: tokenizers<0.19,>=0.14 in /opt/anaconda3/lib/python3.9/site-packages (from transformers) (0.15.2)\n",
      "Requirement already satisfied: safetensors>=0.4.1 in /opt/anaconda3/lib/python3.9/site-packages (from transformers) (0.4.2)\n",
      "Requirement already satisfied: tqdm>=4.27 in /opt/anaconda3/lib/python3.9/site-packages (from transformers) (4.62.3)\n",
      "Requirement already satisfied: fsspec>=2023.5.0 in /opt/anaconda3/lib/python3.9/site-packages (from huggingface-hub<1.0,>=0.19.3->transformers) (2023.6.0)\n",
      "Requirement already satisfied: typing-extensions>=3.7.4.3 in /opt/anaconda3/lib/python3.9/site-packages (from huggingface-hub<1.0,>=0.19.3->transformers) (4.7.1)\n",
      "Requirement already satisfied: pyparsing!=3.0.5,>=2.0.2 in /opt/anaconda3/lib/python3.9/site-packages (from packaging>=20.0->transformers) (3.0.4)\n",
      "Requirement already satisfied: urllib3<1.27,>=1.21.1 in /opt/anaconda3/lib/python3.9/site-packages (from requests->transformers) (1.26.16)\n",
      "Requirement already satisfied: certifi>=2017.4.17 in /opt/anaconda3/lib/python3.9/site-packages (from requests->transformers) (2021.10.8)\n",
      "Requirement already satisfied: charset-normalizer~=2.0.0 in /opt/anaconda3/lib/python3.9/site-packages (from requests->transformers) (2.0.4)\n",
      "Requirement already satisfied: idna<4,>=2.5 in /opt/anaconda3/lib/python3.9/site-packages (from requests->transformers) (3.2)\n",
      "\n",
      "\u001b[1m[\u001b[0m\u001b[34;49mnotice\u001b[0m\u001b[1;39;49m]\u001b[0m\u001b[39;49m A new release of pip is available: \u001b[0m\u001b[31;49m23.1.2\u001b[0m\u001b[39;49m -> \u001b[0m\u001b[32;49m24.0\u001b[0m\n",
      "\u001b[1m[\u001b[0m\u001b[34;49mnotice\u001b[0m\u001b[1;39;49m]\u001b[0m\u001b[39;49m To update, run: \u001b[0m\u001b[32;49mpip install --upgrade pip\u001b[0m\n"
     ]
    },
    {
     "name": "stderr",
     "output_type": "stream",
     "text": [
      "huggingface/tokenizers: The current process just got forked, after parallelism has already been used. Disabling parallelism to avoid deadlocks...\n",
      "To disable this warning, you can either:\n",
      "\t- Avoid using `tokenizers` before the fork if possible\n",
      "\t- Explicitly set the environment variable TOKENIZERS_PARALLELISM=(true | false)\n"
     ]
    },
    {
     "name": "stdout",
     "output_type": "stream",
     "text": [
      "Requirement already satisfied: fast_ml==3.68 in /opt/anaconda3/lib/python3.9/site-packages (3.68)\n",
      "\n",
      "\u001b[1m[\u001b[0m\u001b[34;49mnotice\u001b[0m\u001b[1;39;49m]\u001b[0m\u001b[39;49m A new release of pip is available: \u001b[0m\u001b[31;49m23.1.2\u001b[0m\u001b[39;49m -> \u001b[0m\u001b[32;49m24.0\u001b[0m\n",
      "\u001b[1m[\u001b[0m\u001b[34;49mnotice\u001b[0m\u001b[1;39;49m]\u001b[0m\u001b[39;49m To update, run: \u001b[0m\u001b[32;49mpip install --upgrade pip\u001b[0m\n"
     ]
    },
    {
     "name": "stderr",
     "output_type": "stream",
     "text": [
      "huggingface/tokenizers: The current process just got forked, after parallelism has already been used. Disabling parallelism to avoid deadlocks...\n",
      "To disable this warning, you can either:\n",
      "\t- Avoid using `tokenizers` before the fork if possible\n",
      "\t- Explicitly set the environment variable TOKENIZERS_PARALLELISM=(true | false)\n"
     ]
    },
    {
     "name": "stdout",
     "output_type": "stream",
     "text": [
      "Requirement already satisfied: datasets in /opt/anaconda3/lib/python3.9/site-packages (2.14.2)\n",
      "Requirement already satisfied: numpy>=1.17 in /opt/anaconda3/lib/python3.9/site-packages (from datasets) (1.22.4)\n",
      "Requirement already satisfied: pyarrow>=8.0.0 in /opt/anaconda3/lib/python3.9/site-packages (from datasets) (12.0.1)\n",
      "Requirement already satisfied: dill<0.3.8,>=0.3.0 in /opt/anaconda3/lib/python3.9/site-packages (from datasets) (0.3.7)\n",
      "Requirement already satisfied: pandas in /opt/anaconda3/lib/python3.9/site-packages (from datasets) (1.3.4)\n",
      "Requirement already satisfied: requests>=2.19.0 in /opt/anaconda3/lib/python3.9/site-packages (from datasets) (2.26.0)\n",
      "Requirement already satisfied: tqdm>=4.62.1 in /opt/anaconda3/lib/python3.9/site-packages (from datasets) (4.62.3)\n",
      "Requirement already satisfied: xxhash in /opt/anaconda3/lib/python3.9/site-packages (from datasets) (3.3.0)\n",
      "Requirement already satisfied: multiprocess in /opt/anaconda3/lib/python3.9/site-packages (from datasets) (0.70.15)\n",
      "Requirement already satisfied: fsspec[http]>=2021.11.1 in /opt/anaconda3/lib/python3.9/site-packages (from datasets) (2023.6.0)\n",
      "Requirement already satisfied: aiohttp in /opt/anaconda3/lib/python3.9/site-packages (from datasets) (3.8.4)\n",
      "Requirement already satisfied: huggingface-hub<1.0.0,>=0.14.0 in /opt/anaconda3/lib/python3.9/site-packages (from datasets) (0.21.4)\n",
      "Requirement already satisfied: packaging in /opt/anaconda3/lib/python3.9/site-packages (from datasets) (21.3)\n",
      "Requirement already satisfied: pyyaml>=5.1 in /opt/anaconda3/lib/python3.9/site-packages (from datasets) (6.0)\n",
      "Requirement already satisfied: attrs>=17.3.0 in /opt/anaconda3/lib/python3.9/site-packages (from aiohttp->datasets) (21.4.0)\n",
      "Requirement already satisfied: charset-normalizer<4.0,>=2.0 in /opt/anaconda3/lib/python3.9/site-packages (from aiohttp->datasets) (2.0.4)\n",
      "Requirement already satisfied: multidict<7.0,>=4.5 in /opt/anaconda3/lib/python3.9/site-packages (from aiohttp->datasets) (6.0.4)\n",
      "Requirement already satisfied: async-timeout<5.0,>=4.0.0a3 in /opt/anaconda3/lib/python3.9/site-packages (from aiohttp->datasets) (4.0.2)\n",
      "Requirement already satisfied: yarl<2.0,>=1.0 in /opt/anaconda3/lib/python3.9/site-packages (from aiohttp->datasets) (1.9.2)\n",
      "Requirement already satisfied: frozenlist>=1.1.1 in /opt/anaconda3/lib/python3.9/site-packages (from aiohttp->datasets) (1.3.3)\n",
      "Requirement already satisfied: aiosignal>=1.1.2 in /opt/anaconda3/lib/python3.9/site-packages (from aiohttp->datasets) (1.3.1)\n",
      "Requirement already satisfied: filelock in /opt/anaconda3/lib/python3.9/site-packages (from huggingface-hub<1.0.0,>=0.14.0->datasets) (3.6.0)\n",
      "Requirement already satisfied: typing-extensions>=3.7.4.3 in /opt/anaconda3/lib/python3.9/site-packages (from huggingface-hub<1.0.0,>=0.14.0->datasets) (4.7.1)\n",
      "Requirement already satisfied: pyparsing!=3.0.5,>=2.0.2 in /opt/anaconda3/lib/python3.9/site-packages (from packaging->datasets) (3.0.4)\n",
      "Requirement already satisfied: urllib3<1.27,>=1.21.1 in /opt/anaconda3/lib/python3.9/site-packages (from requests>=2.19.0->datasets) (1.26.16)\n",
      "Requirement already satisfied: certifi>=2017.4.17 in /opt/anaconda3/lib/python3.9/site-packages (from requests>=2.19.0->datasets) (2021.10.8)\n",
      "Requirement already satisfied: idna<4,>=2.5 in /opt/anaconda3/lib/python3.9/site-packages (from requests>=2.19.0->datasets) (3.2)\n",
      "Requirement already satisfied: python-dateutil>=2.7.3 in /opt/anaconda3/lib/python3.9/site-packages (from pandas->datasets) (2.8.2)\n",
      "Requirement already satisfied: pytz>=2017.3 in /opt/anaconda3/lib/python3.9/site-packages (from pandas->datasets) (2021.3)\n",
      "Requirement already satisfied: six>=1.5 in /opt/anaconda3/lib/python3.9/site-packages (from python-dateutil>=2.7.3->pandas->datasets) (1.16.0)\n",
      "\n",
      "\u001b[1m[\u001b[0m\u001b[34;49mnotice\u001b[0m\u001b[1;39;49m]\u001b[0m\u001b[39;49m A new release of pip is available: \u001b[0m\u001b[31;49m23.1.2\u001b[0m\u001b[39;49m -> \u001b[0m\u001b[32;49m24.0\u001b[0m\n",
      "\u001b[1m[\u001b[0m\u001b[34;49mnotice\u001b[0m\u001b[1;39;49m]\u001b[0m\u001b[39;49m To update, run: \u001b[0m\u001b[32;49mpip install --upgrade pip\u001b[0m\n"
     ]
    },
    {
     "name": "stderr",
     "output_type": "stream",
     "text": [
      "huggingface/tokenizers: The current process just got forked, after parallelism has already been used. Disabling parallelism to avoid deadlocks...\n",
      "To disable this warning, you can either:\n",
      "\t- Avoid using `tokenizers` before the fork if possible\n",
      "\t- Explicitly set the environment variable TOKENIZERS_PARALLELISM=(true | false)\n"
     ]
    },
    {
     "name": "stdout",
     "output_type": "stream",
     "text": [
      "Requirement already satisfied: accelerate in /opt/anaconda3/lib/python3.9/site-packages (0.28.0)\n",
      "Requirement already satisfied: numpy>=1.17 in /opt/anaconda3/lib/python3.9/site-packages (from accelerate) (1.22.4)\n",
      "Requirement already satisfied: packaging>=20.0 in /opt/anaconda3/lib/python3.9/site-packages (from accelerate) (21.3)\n",
      "Requirement already satisfied: psutil in /opt/anaconda3/lib/python3.9/site-packages (from accelerate) (5.8.0)\n",
      "Requirement already satisfied: pyyaml in /opt/anaconda3/lib/python3.9/site-packages (from accelerate) (6.0)\n",
      "Requirement already satisfied: torch>=1.10.0 in /opt/anaconda3/lib/python3.9/site-packages (from accelerate) (2.0.1)\n",
      "Requirement already satisfied: huggingface-hub in /opt/anaconda3/lib/python3.9/site-packages (from accelerate) (0.21.4)\n",
      "Requirement already satisfied: safetensors>=0.3.1 in /opt/anaconda3/lib/python3.9/site-packages (from accelerate) (0.4.2)\n",
      "Requirement already satisfied: pyparsing!=3.0.5,>=2.0.2 in /opt/anaconda3/lib/python3.9/site-packages (from packaging>=20.0->accelerate) (3.0.4)\n",
      "Requirement already satisfied: filelock in /opt/anaconda3/lib/python3.9/site-packages (from torch>=1.10.0->accelerate) (3.6.0)\n",
      "Requirement already satisfied: typing-extensions in /opt/anaconda3/lib/python3.9/site-packages (from torch>=1.10.0->accelerate) (4.7.1)\n",
      "Requirement already satisfied: sympy in /opt/anaconda3/lib/python3.9/site-packages (from torch>=1.10.0->accelerate) (1.9)\n",
      "Requirement already satisfied: networkx in /opt/anaconda3/lib/python3.9/site-packages (from torch>=1.10.0->accelerate) (2.6.3)\n",
      "Requirement already satisfied: jinja2 in /opt/anaconda3/lib/python3.9/site-packages (from torch>=1.10.0->accelerate) (2.11.3)\n",
      "Requirement already satisfied: fsspec>=2023.5.0 in /opt/anaconda3/lib/python3.9/site-packages (from huggingface-hub->accelerate) (2023.6.0)\n",
      "Requirement already satisfied: requests in /opt/anaconda3/lib/python3.9/site-packages (from huggingface-hub->accelerate) (2.26.0)\n",
      "Requirement already satisfied: tqdm>=4.42.1 in /opt/anaconda3/lib/python3.9/site-packages (from huggingface-hub->accelerate) (4.62.3)\n",
      "Requirement already satisfied: MarkupSafe>=0.23 in /opt/anaconda3/lib/python3.9/site-packages (from jinja2->torch>=1.10.0->accelerate) (1.1.1)\n",
      "Requirement already satisfied: urllib3<1.27,>=1.21.1 in /opt/anaconda3/lib/python3.9/site-packages (from requests->huggingface-hub->accelerate) (1.26.16)\n",
      "Requirement already satisfied: certifi>=2017.4.17 in /opt/anaconda3/lib/python3.9/site-packages (from requests->huggingface-hub->accelerate) (2021.10.8)\n",
      "Requirement already satisfied: charset-normalizer~=2.0.0 in /opt/anaconda3/lib/python3.9/site-packages (from requests->huggingface-hub->accelerate) (2.0.4)\n",
      "Requirement already satisfied: idna<4,>=2.5 in /opt/anaconda3/lib/python3.9/site-packages (from requests->huggingface-hub->accelerate) (3.2)\n",
      "Requirement already satisfied: mpmath>=0.19 in /opt/anaconda3/lib/python3.9/site-packages (from sympy->torch>=1.10.0->accelerate) (1.2.1)\n",
      "\n",
      "\u001b[1m[\u001b[0m\u001b[34;49mnotice\u001b[0m\u001b[1;39;49m]\u001b[0m\u001b[39;49m A new release of pip is available: \u001b[0m\u001b[31;49m23.1.2\u001b[0m\u001b[39;49m -> \u001b[0m\u001b[32;49m24.0\u001b[0m\n",
      "\u001b[1m[\u001b[0m\u001b[34;49mnotice\u001b[0m\u001b[1;39;49m]\u001b[0m\u001b[39;49m To update, run: \u001b[0m\u001b[32;49mpip install --upgrade pip\u001b[0m\n",
      "zsh:1: no matches found: transformers[torch]\n"
     ]
    },
    {
     "name": "stderr",
     "output_type": "stream",
     "text": [
      "huggingface/tokenizers: The current process just got forked, after parallelism has already been used. Disabling parallelism to avoid deadlocks...\n",
      "To disable this warning, you can either:\n",
      "\t- Avoid using `tokenizers` before the fork if possible\n",
      "\t- Explicitly set the environment variable TOKENIZERS_PARALLELISM=(true | false)\n",
      "huggingface/tokenizers: The current process just got forked, after parallelism has already been used. Disabling parallelism to avoid deadlocks...\n",
      "To disable this warning, you can either:\n",
      "\t- Avoid using `tokenizers` before the fork if possible\n",
      "\t- Explicitly set the environment variable TOKENIZERS_PARALLELISM=(true | false)\n"
     ]
    },
    {
     "name": "stdout",
     "output_type": "stream",
     "text": [
      "Requirement already satisfied: transformers in /opt/anaconda3/lib/python3.9/site-packages (4.38.2)\n",
      "Requirement already satisfied: filelock in /opt/anaconda3/lib/python3.9/site-packages (from transformers) (3.6.0)\n",
      "Requirement already satisfied: huggingface-hub<1.0,>=0.19.3 in /opt/anaconda3/lib/python3.9/site-packages (from transformers) (0.21.4)\n",
      "Requirement already satisfied: numpy>=1.17 in /opt/anaconda3/lib/python3.9/site-packages (from transformers) (1.22.4)\n",
      "Requirement already satisfied: packaging>=20.0 in /opt/anaconda3/lib/python3.9/site-packages (from transformers) (21.3)\n",
      "Requirement already satisfied: pyyaml>=5.1 in /opt/anaconda3/lib/python3.9/site-packages (from transformers) (6.0)\n",
      "Requirement already satisfied: regex!=2019.12.17 in /opt/anaconda3/lib/python3.9/site-packages (from transformers) (2023.6.3)\n",
      "Requirement already satisfied: requests in /opt/anaconda3/lib/python3.9/site-packages (from transformers) (2.26.0)\n",
      "Requirement already satisfied: tokenizers<0.19,>=0.14 in /opt/anaconda3/lib/python3.9/site-packages (from transformers) (0.15.2)\n",
      "Requirement already satisfied: safetensors>=0.4.1 in /opt/anaconda3/lib/python3.9/site-packages (from transformers) (0.4.2)\n",
      "Requirement already satisfied: tqdm>=4.27 in /opt/anaconda3/lib/python3.9/site-packages (from transformers) (4.62.3)\n",
      "Requirement already satisfied: fsspec>=2023.5.0 in /opt/anaconda3/lib/python3.9/site-packages (from huggingface-hub<1.0,>=0.19.3->transformers) (2023.6.0)\n",
      "Requirement already satisfied: typing-extensions>=3.7.4.3 in /opt/anaconda3/lib/python3.9/site-packages (from huggingface-hub<1.0,>=0.19.3->transformers) (4.7.1)\n",
      "Requirement already satisfied: pyparsing!=3.0.5,>=2.0.2 in /opt/anaconda3/lib/python3.9/site-packages (from packaging>=20.0->transformers) (3.0.4)\n",
      "Requirement already satisfied: urllib3<1.27,>=1.21.1 in /opt/anaconda3/lib/python3.9/site-packages (from requests->transformers) (1.26.16)\n",
      "Requirement already satisfied: certifi>=2017.4.17 in /opt/anaconda3/lib/python3.9/site-packages (from requests->transformers) (2021.10.8)\n",
      "Requirement already satisfied: charset-normalizer~=2.0.0 in /opt/anaconda3/lib/python3.9/site-packages (from requests->transformers) (2.0.4)\n",
      "Requirement already satisfied: idna<4,>=2.5 in /opt/anaconda3/lib/python3.9/site-packages (from requests->transformers) (3.2)\n",
      "\n",
      "\u001b[1m[\u001b[0m\u001b[34;49mnotice\u001b[0m\u001b[1;39;49m]\u001b[0m\u001b[39;49m A new release of pip is available: \u001b[0m\u001b[31;49m23.1.2\u001b[0m\u001b[39;49m -> \u001b[0m\u001b[32;49m24.0\u001b[0m\n",
      "\u001b[1m[\u001b[0m\u001b[34;49mnotice\u001b[0m\u001b[1;39;49m]\u001b[0m\u001b[39;49m To update, run: \u001b[0m\u001b[32;49mpip install --upgrade pip\u001b[0m\n",
      "zsh:1: 0.20.1 not found\n"
     ]
    },
    {
     "name": "stderr",
     "output_type": "stream",
     "text": [
      "huggingface/tokenizers: The current process just got forked, after parallelism has already been used. Disabling parallelism to avoid deadlocks...\n",
      "To disable this warning, you can either:\n",
      "\t- Avoid using `tokenizers` before the fork if possible\n",
      "\t- Explicitly set the environment variable TOKENIZERS_PARALLELISM=(true | false)\n"
     ]
    }
   ],
   "source": [
    "! pip install transformers\n",
    "! pip install fast_ml==3.68\n",
    "! pip install datasets\n",
    "! pip install accelerate -U\n",
    "! pip install transformers[torch]\n",
    "! pip install -U transformers\n",
    "! pip install accelerate>=0.20.1"
   ]
  },
  {
   "cell_type": "code",
   "execution_count": 13,
   "metadata": {},
   "outputs": [],
   "source": [
    "import pandas as pd\n",
    "import numpy as np\n",
    "from transformers import Trainer, TrainingArguments, AutoConfig, AutoTokenizer, AutoModelForSequenceClassification\n",
    "import torch\n",
    "import pathlib\n",
    "from torch import nn\n",
    "from torch.nn.functional import softmax\n",
    "\n",
    "CURRENT_PATH = pathlib.Path().resolve()"
   ]
  },
  {
   "cell_type": "code",
   "execution_count": 14,
   "metadata": {},
   "outputs": [
    {
     "name": "stdout",
     "output_type": "stream",
     "text": [
      "Device Availble: mps\n"
     ]
    }
   ],
   "source": [
    "DEVICE = torch.device('mps')\n",
    "print (f'Device Availble: {DEVICE}')\n"
   ]
  },
  {
   "cell_type": "code",
   "execution_count": 15,
   "metadata": {},
   "outputs": [],
   "source": [
    "# Create a DataLoader class for processing and loading of the data during training and inference phase\n",
    "class DataLoader(torch.utils.data.Dataset):\n",
    "    def __init__(self, sentences=None, labels=None):\n",
    "        self.sentences = sentences\n",
    "        self.labels = labels\n",
    "        self.tokenizer = AutoTokenizer.from_pretrained('distilbert-base-uncased')\n",
    "        \n",
    "        if bool(sentences):\n",
    "            self.encodings = self.tokenizer(self.sentences,\n",
    "                                            truncation = True,\n",
    "                                            padding = True)\n",
    "        \n",
    "    def __getitem__(self, idx):\n",
    "        item = {key: torch.tensor(val[idx]) for key, val in self.encodings.items()}\n",
    "        \n",
    "        if self.labels == None:\n",
    "            item['labels'] = None\n",
    "        else:\n",
    "            item['labels'] = torch.tensor(self.labels[idx])\n",
    "        return item\n",
    "    def __len__(self):\n",
    "        return len(self.sentences)\n",
    "    \n",
    "    \n",
    "    def encode(self, x):\n",
    "        return self.tokenizer(x, return_tensors = 'pt').to(DEVICE)\n"
   ]
  },
  {
   "cell_type": "code",
   "execution_count": 16,
   "metadata": {},
   "outputs": [],
   "source": [
    "# SentimentModel class helps to initialize the model and contains the predict_proba and batch_predict_proba methods for single and batch prediction respectively. \n",
    "# The batch_predict_proba uses HuggingFace's Trainer to perform batch scoring\n",
    "class SentimentModel():\n",
    "    \n",
    "    def __init__(self, model_path):\n",
    "        \n",
    "        self.model = AutoModelForSequenceClassification.from_pretrained(f'{CURRENT_PATH}/deep_learning/working').to(DEVICE)\n",
    "        args =  TrainingArguments(output_dir=f'{CURRENT_PATH}/deep_learning/working/results', per_device_eval_batch_size=64)\n",
    "        self.batch_model = Trainer(model = self.model, args= args)\n",
    "        self.single_dataloader = DataLoader()\n",
    "        \n",
    "    def batch_predict_proba(self, x):\n",
    "        \n",
    "        predictions = self.batch_model.predict(DataLoader(x))\n",
    "        logits = torch.from_numpy(predictions.predictions)\n",
    "        proba = torch.nn.functional.softmax(logits, dim = 1).to('cpu').detach().numpy()\n",
    "        return proba\n",
    "        \n",
    "        \n",
    "    def predict_proba(self, x):\n",
    "        x = self.single_dataloader.encode(x).to(DEVICE)\n",
    "        predictions = self.model(**x)\n",
    "        logits = predictions.logits\n",
    "        proba = torch.nn.functional.softmax(logits, dim = 1).to('cpu').detach().numpy()\n",
    "        return proba\n"
   ]
  },
  {
   "cell_type": "code",
   "execution_count": 17,
   "metadata": {},
   "outputs": [
    {
     "name": "stderr",
     "output_type": "stream",
     "text": [
      "/opt/anaconda3/lib/python3.9/site-packages/accelerate/accelerator.py:432: FutureWarning: Passing the following arguments to `Accelerator` is deprecated and will be removed in version 1.0 of Accelerate: dict_keys(['dispatch_batches', 'split_batches', 'even_batches', 'use_seedable_sampler']). Please pass an `accelerate.DataLoaderConfiguration` instead: \n",
      "dataloader_config = DataLoaderConfiguration(dispatch_batches=None, split_batches=False, even_batches=True, use_seedable_sampler=True)\n",
      "  warnings.warn(\n"
     ]
    }
   ],
   "source": [
    "sentiment_model = SentimentModel(f'{CURRENT_PATH}/deep_learning/working')\n",
    "id2label = sentiment_model.model.config.id2label"
   ]
  },
  {
   "cell_type": "markdown",
   "metadata": {},
   "source": [
    "## Inference Example"
   ]
  },
  {
   "cell_type": "code",
   "execution_count": 18,
   "metadata": {},
   "outputs": [
    {
     "name": "stdout",
     "output_type": "stream",
     "text": [
      "...: 8.0\n",
      "\n"
     ]
    }
   ],
   "source": [
    "ARTICLE_TITLE = ''\n",
    "print(f'{ARTICLE_TITLE[:50]}...: {id2label[np.argmax(sentiment_model.predict_proba(ARTICLE_TITLE))]}\\n')"
   ]
  },
  {
   "cell_type": "markdown",
   "metadata": {},
   "source": [
    "## Testing"
   ]
  },
  {
   "cell_type": "code",
   "execution_count": 19,
   "metadata": {},
   "outputs": [
    {
     "data": {
      "text/html": [
       "<div>\n",
       "<style scoped>\n",
       "    .dataframe tbody tr th:only-of-type {\n",
       "        vertical-align: middle;\n",
       "    }\n",
       "\n",
       "    .dataframe tbody tr th {\n",
       "        vertical-align: top;\n",
       "    }\n",
       "\n",
       "    .dataframe thead th {\n",
       "        text-align: right;\n",
       "    }\n",
       "</style>\n",
       "<table border=\"1\" class=\"dataframe\">\n",
       "  <thead>\n",
       "    <tr style=\"text-align: right;\">\n",
       "      <th></th>\n",
       "      <th>Article Title</th>\n",
       "      <th>Label</th>\n",
       "    </tr>\n",
       "  </thead>\n",
       "  <tbody>\n",
       "    <tr>\n",
       "      <th>0</th>\n",
       "      <td>NEW: Sam Altman has been pushed out of AI jugg...</td>\n",
       "      <td>8.0</td>\n",
       "    </tr>\n",
       "    <tr>\n",
       "      <th>1</th>\n",
       "      <td>The High Anxiety Of Holding On To Your Job And...</td>\n",
       "      <td>9.0</td>\n",
       "    </tr>\n",
       "    <tr>\n",
       "      <th>2</th>\n",
       "      <td>One of the richest women in the world Elisabet...</td>\n",
       "      <td>6.0</td>\n",
       "    </tr>\n",
       "    <tr>\n",
       "      <th>3</th>\n",
       "      <td>How Rob Gronkowski Is Thriving In Business Aft...</td>\n",
       "      <td>8.0</td>\n",
       "    </tr>\n",
       "    <tr>\n",
       "      <th>4</th>\n",
       "      <td>While \"startup\" conjures up images of founders...</td>\n",
       "      <td>8.0</td>\n",
       "    </tr>\n",
       "  </tbody>\n",
       "</table>\n",
       "</div>"
      ],
      "text/plain": [
       "                                       Article Title  Label\n",
       "0  NEW: Sam Altman has been pushed out of AI jugg...    8.0\n",
       "1  The High Anxiety Of Holding On To Your Job And...    9.0\n",
       "2  One of the richest women in the world Elisabet...    6.0\n",
       "3  How Rob Gronkowski Is Thriving In Business Aft...    8.0\n",
       "4  While \"startup\" conjures up images of founders...    8.0"
      ]
     },
     "execution_count": 19,
     "metadata": {},
     "output_type": "execute_result"
    }
   ],
   "source": [
    "df = pd.read_csv(f'{CURRENT_PATH}/articles_and_labels.csv')\n",
    "df_labels = df.loc[:, ['Article Title', 'Label']].dropna()\n",
    "df_labels.head()"
   ]
  },
  {
   "cell_type": "code",
   "execution_count": 20,
   "metadata": {},
   "outputs": [],
   "source": [
    "batch_sentences = df_labels.sample(n = 5, random_state = 1)['Article Title'].to_list()\n",
    "single_sentence = df_labels.sample(n = 1, random_state = 2)['Article Title'].to_list()[0]\n"
   ]
  },
  {
   "cell_type": "code",
   "execution_count": 21,
   "metadata": {},
   "outputs": [
    {
     "name": "stdout",
     "output_type": "stream",
     "text": [
      "NEW: Sam Altman has been pushed out of AI juggernaut Open AI after an internal review found he had not been “consistently candid” with his representations to the board.Read the latest: trib.al/p83NQ63: -9.0\n",
      "\n",
      "The High Anxiety Of Holding On To Your Job And The Great Apprehension Of Losing It trib.al/PTPG14u: -9.0\n",
      "\n",
      "One of the richest women in the world Elisabeth DeLuca is worth an estimated $8.2 billion but she’s far from a household name and there are just a handful of photos of her online. trib.al/vDg0E1e: -9.0\n",
      "\n",
      "How Rob Gronkowski Is Thriving In Business After The NFL trib.al/2PWwwph by @ScottKingMedia: -9.0\n",
      "\n",
      "While \"startup\" conjures up images of founders in their twenties making a go of it in their college dorm rooms entrepreneurship isn’t just for the young. In fact the trend for older individuals to create and run a thriving business is accelerating. trib.al/MwrECVg: -9.0\n",
      "\n",
      "One of the richest women in the world Elisabeth DeLuca is worth an estimated $8.2 billion but she’s far from a household name and there are just a handful of photos of her online. trib.al/buHro0b: -9.0\n",
      "\n",
      "Here's how much estimates show a classic Thanksgiving feast will cost this year: trib.al/YAjRl5X: -7.0\n",
      "\n",
      "5 Tips To Fix Your Finances And Build A Budget That Works In 2024 trib.al/iMLgFLI: -9.0\n",
      "\n",
      "An AI Doctor In A Box Coming To A Mall Near You trib.al/1M7sw97: -9.0\n",
      "\n",
      "Notion cofounder and CEO Ivan Zhao sees AI as an opportunity to turn his productivity app into a \"magnet tool\" for workers. trib.al/x0mpnX9: -9.0\n",
      "\n",
      "How Well Do You Know Your Closest Business Confidants? (And 5 Reasons It Matters) trib.al/wXUW9rY?: -9.0\n",
      "\n",
      "How False Shoplifting Charges Inspired Ron Shaich To Build An Empire trib.al/4ign9Jt: -9.0\n",
      "\n",
      "How To Use LinkedIn To Get Your Colleagues To See You As A Leader trib.al/A3RpwQs: -9.0\n",
      "\n",
      "Why The ‘Quiet Cutting’ Trend Could Be Bad For Your Business trib.al/tkHHhzB: -7.0\n",
      "\n",
      "The biggest red flags you should watch out for in an interview: trib.al/HOC4BfO: -7.0\n",
      "\n",
      "It’s critical to offer employees benefits such as flexible work arrangements skill development programs family leave options and a mission that aligns with women’s empowerment. #ForbesTopCompaniesForWomen trib.al/tZS5fva: -9.0\n",
      "\n",
      "We're in the intermission between the first leg and the second leg of a super-cycle bull market in commodities says Smead Capital Management CIO Bill Smead. https://t.co/cHv32zeZOt: -9.0\n",
      "\n",
      "Barclay's Brandt Montour gives the case upgrading $DKNG to Overweight: https://t.co/21BMaDhu0E: -9.0\n",
      "\n",
      "Judge approves Binance $4.3 billion guilty plea as US seeks to modify founder Zhao's bond https://t.co/8RBkSnfJG9: -9.0\n",
      "\n",
      "Pharmacies across America are having trouble processing some prescriptions because of a cyberattack https://t.co/1RCfo832ut via @CNNBusiness: -9.0\n",
      "\n",
      "Nvidia stock surge causes $3 billion loss for short sellers https://t.co/OgcRiiI8w6 via @business: -9.0\n",
      "\n",
      "Carvana stock surges after first annual profit: 'We didn't disintegrate' https://t.co/7a4Q8L91PZ by @ines_ferre: -7.0\n",
      "\n",
      "“It’s not that EVs are declining or anything like that it’s the rate of growth is slowing” RBC Capital Markets lead equity analyst Tom Narayan says. Today’s EV adopter “is kind of more price sensitive. That’s where a lot of the demand is coming from now.” https://t.co/M7lqg5Zeq6: -9.0\n",
      "\n",
      "US unveils biggest sanctions package on Russia since war began https://t.co/Zmyp328Smi via @business: -9.0\n",
      "\n",
      "There's no urgency to cut rates Deutsche Bank Securities' Matthew Luzzetti says on the outlook for the Fed. \"The economy is doing well. https://t.co/IAJ6gxan4b: -9.0\n",
      "\n",
      "$GOOGL is the worst positioned Magnificent Seven stock according to Laffer Tengler Investments CEO @ntengler: “This latest issue with the images on Gemini is the second hiccup since they’ve announced generative AI. They are behind...” https://t.co/VbEb55XD7l: -9.0\n",
      "\n",
      "Student loans: Here's a map of the $1.2 billion discharged under SAVE by US state https://t.co/3ONuNWJ7K4 by @WritesRonda: -9.0\n",
      "\n",
      "US new vehicles sales set to rise in February report shows https://t.co/FxTBJfto94: -7.0\n",
      "\n",
      "FDA approves Novo Nordisk's Wegovy for use in reducing heart attack risks https://t.co/BPX0nEuxk8: -9.0\n",
      "\n",
      "SEC’s Gensler says crypto 'rife with abuses and fraud' as bitcoin surges to new all-time record https://t.co/3sHJZ8bMcd by @Jenniferisms: -9.0\n",
      "\n",
      "Costco stock set for worst day in near two years on quarterly revenue miss https://t.co/hR6QCVzv9y🔻 $COST -7.19%: -9.0\n",
      "\n",
      "$NVDA on cusp of overtaking $AAPL as second-most-valuable company https://t.co/Bh9veKDgkg: -7.0\n",
      "\n",
      "SEC Chair @GaryGensler talks with @Jenniferisms on the possibility of green-lighting options for spot bitcoin ETFs plus approving other exchange-traded products for other digital currencies: https://t.co/eiBNgqCnna: -9.0\n",
      "\n",
      "Bitcoin rises to record high touches $70000 for the first time https://t.co/0TUKud5WP3: -9.0\n",
      "\n",
      "Food inflation has been a real challenge for all of us Solomon Partners' Scott Moses says. \"The food manufacturers have been exacerbating matters by continuously taking price increases and they all talk about it freely in their earnings reports.\" https://t.co/4MqH8S38Qa: -9.0\n",
      "\n",
      "Regional bank woes persist one year after the collapse of three high-profile banks.WaFd Bank CEO Brent Beardall joins Yahoo Finance to discuss the state of regional banks: https://t.co/nU5ML53OPu: -9.0\n",
      "\n",
      "This is another strong jobs report showing just how astounding the recovery has been since President Biden came into office @ActSecJulieSu tells @Jenniferisms. \"The unemployment rate remains under 4% ... for over two years.\" https://t.co/YwTqSS0t6z: -9.0\n",
      "\n",
      "February jobs report: US economy adds 275000 jobs unemployment rate hits 3.9% https://t.co/5IMVRaNVlK by @_JoshSchafer: -7.0\n",
      "\n",
      "We are forecasting that the Fed will begin cutting rates in June of this year BofA Securities senior US equity strategist Jill Carey Hall says. \"We're looking for three cuts this year and four cuts next year.\" https://t.co/Ket89unLn6: -9.0\n",
      "\n",
      "Nvidia looks primed for a stock split after $1 trillion rally https://t.co/fMM1H0lCRQ via @business: -9.0\n",
      "\n",
      "Despite \"pieces of bad data\" there’s nothing in the report to upset the bulls' narrative Interactive Brokers chief strategist @SteveSosnick tells Yahoo Finance on the February jobs report. https://t.co/4mW74KaaQQ: -9.0\n",
      "\n",
      "24% of pet owners have pet insurance according to NerdWallet.Personal finance expert @KimberlyPalmer joins Yahoo Finance to discuss pet care and avoiding going into debt over a pet medical emergency: https://t.co/BnzPe8XzBK: -9.0\n",
      "\n",
      "$AAPL isn't going ahead with its EV after spending billions of dollars and nearly a decade on it. But some analysts say it’s likely a good thing: “A successful and profitable company such as Apple has little to gain from building their own vehicle.\" https://t.co/ULNxB8Btqq: -9.0\n",
      "\n",
      "There's a reason why Hollywood relies so heavily on sequels — it shows them the money.Of the top 60 box office films since 2016 just five can be classified as true original titles with sequels driving the bulk of the industry's highest-grossing films. https://t.co/JgeS3SSdqh https://t.co/vSMaH8I1ea: -9.0\n",
      "\n",
      "Consumer Reports named BMW the top overall pick in its 2024 Brand Report Card rankings. “This is a brand that of the 12 models that we've tested 12 of them we could recommend\" director of auto testing Jake Fisher said. Subaru took second remaining the top mainstream brand. https://t.co/invnj6sBjR: -7.0\n",
      "\n",
      "Here's one way high mortgage rates are benefiting homeowners https://t.co/KjQPrLQar4 by @RebeccaChenP: -7.0\n",
      "\n",
      "BYD EVP Stella Li told us this week why BYD doesn't plan to expand in the US. She shared plans for expansion in Mexico later this year: https://t.co/N1iualCyKt: -9.0\n",
      "\n",
      "I lost $11300 to identity fraud. What I learned: Usual safeguards don’t work. https://t.co/Yzwx3fLXgR by @JannaHerron: -9.0\n",
      "\n",
      "Boston Fed president Susan Collins predicted Wednesday that the path down to the central bank’s 2% inflation goal could continue to be \"bumpy\" but that it will still likely become appropriate to begin cutting rates \"later this year.\" https://t.co/DDJtUvaJxI: -9.0\n",
      "\n",
      "The $GSPC took more than two years to gain its last 1000 points. There's an increasing number of Wall Street strategists that believe this time it could take less than a year. https://t.co/55S3KVrSj6: -9.0\n",
      "\n",
      "Not every piece of generative AI software is going to be a breakthrough like OpenAI’s ChatGPT. But don’t expect that to slow the seemingly endless parade of platforms and tools coming to market. https://t.co/oVfoTBtBT6: -9.0\n",
      "\n",
      "Berkshire has become a great company. Though I have long been in charge of the construction crew; Charlie should forever be credited with being the architect Warren Buffett wrote in his annual letter to Berkshire Hathaway last weekend. https://t.co/QwYG4tRZtQ: -7.0\n",
      "\n",
      "Lawyers who voided Elon Musk's pay as excessive want $6 billion fee https://t.co/IjcOHx9kW7: -9.0\n",
      "\n",
      "Medical debt has once again reached unprecedented levels in the US.An estimated 20 million American adults owe roughly $220 billion in medical bills according to recent findings from the Peterson-KFF Health System Tracker. https://t.co/vQ8NTZ8wT4 https://t.co/WpU8u9RE1W: -9.0\n",
      "\n",
      "McDonald's dips on downbeat international sales outlook https://t.co/reW1TATUwu: -9.0\n",
      "\n",
      "Tesla a ‘growth company with no growth’ Wells Fargo says https://t.co/lvBAmLJ36E: -9.0\n",
      "\n",
      "Adidas posts first loss in 30 years and warns on US https://t.co/88GxHU8ZOZ: -9.0\n",
      "\n",
      "I think it would be normal and healthy for the market to pull back Miller Tabak managing director Matt Maley says. \"Investors need to be very careful about chasing some of these names up at these levels.\" https://t.co/mCER8gAPIG: -7.0\n",
      "\n",
      "Dollar Tree posts downbeat results to shut nearly 1000 stores https://t.co/u1R8nVqjHa: -9.0\n",
      "\n",
      "|||Column |||| The economic record Republicans want you to remember https://t.co/nVlmIApq6Y by @rickjnewman|||: -9.0\n",
      "\n",
      "Investors should \"stay away\" from $BTC according to Mizuho Americas managing director @ddolev.His case: https://t.co/7eZ1qAdWzg: -9.0\n",
      "\n",
      "Bitcoin to $350000? Bulls say the current rally is just the beginning. https://t.co/tULhhwF2YC by @_JoshSchafer: -7.0\n",
      "\n",
      "Airbnb bans the use of indoor security cameras https://t.co/YXyZ9lW8QX via @CNNBusiness: -9.0\n",
      "\n",
      "Oppenheimer's Oscars sweep \"showcased the fact that successful box office in a premium out-of-home experience to get away from in-home entertainment really provides the opportunity to get these massive awards\" says @TheDragonFeeder.How streamers can respond: 👇 https://t.co/PvstwtqXLa: -9.0\n",
      "\n",
      "'You can't just go to electric': Trump sounds off on EV transition as automakers warn on demand https://t.co/8rOa1R45J7 by @Pras_S: -9.0\n",
      "\n",
      "For me as a creator the majority of my income comes from [TikTok] says creator and August co-founder @nadyaokamoto on a potential ban. \"There is a big financial outcome of having a loss of an app like this.\" https://t.co/IWxo8RXItf: -9.0\n",
      "\n",
      "Gold is now in a similar situation as bitcoin NewEdge Wealth senior portfolio manager Ben Emons tells Yahoo Finance: https://t.co/iuN811TU1J: -7.0\n",
      "\n"
     ]
    }
   ],
   "source": [
    "single_sentence_probas = sentiment_model.predict_proba(single_sentence)\n",
    "predicted_class_label = id2label[np.argmax(single_sentence_probas)]\n",
    "\n",
    "for article_title in df_labels['Article Title']:\n",
    "    print(f'{article_title}: {id2label[np.argmax(sentiment_model.predict_proba(article_title))]}\\n')"
   ]
  },
  {
   "cell_type": "code",
   "execution_count": 22,
   "metadata": {},
   "outputs": [
    {
     "name": "stderr",
     "output_type": "stream",
     "text": [
      "100%|██████████| 1/1 [00:00<00:00, 1239.09it/s]\n"
     ]
    }
   ],
   "source": [
    "batch_sentence_probas = sentiment_model.batch_predict_proba(batch_sentences)\n",
    "predicted_class_labels = [id2label[i] for i in np.argmax(batch_sentence_probas, axis = -1)]"
   ]
  }
 ],
 "metadata": {
  "kernelspec": {
   "display_name": "local-venv-kernel",
   "language": "python",
   "name": "local-venv-kernel"
  },
  "language_info": {
   "codemirror_mode": {
    "name": "ipython",
    "version": 3
   },
   "file_extension": ".py",
   "mimetype": "text/x-python",
   "name": "python",
   "nbconvert_exporter": "python",
   "pygments_lexer": "ipython3",
   "version": "3.9.7"
  }
 },
 "nbformat": 4,
 "nbformat_minor": 2
}
